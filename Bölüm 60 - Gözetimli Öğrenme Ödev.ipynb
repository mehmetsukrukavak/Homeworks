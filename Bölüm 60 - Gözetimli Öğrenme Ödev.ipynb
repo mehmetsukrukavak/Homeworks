{
 "cells": [
  {
   "cell_type": "code",
   "id": "initial_id",
   "metadata": {
    "collapsed": true,
    "ExecuteTime": {
     "end_time": "2025-07-13T17:35:06.380522Z",
     "start_time": "2025-07-13T17:35:06.029329Z"
    }
   },
   "source": [
    "import pandas as pd\n",
    "import numpy as np\n",
    "import matplotlib.pyplot as plt\n",
    "import seaborn as sns\n",
    "from sqlalchemy import column\n",
    "\n",
    "# https://www.kaggle.com/datasets/anthonytherrien/depression-dataset\n",
    "\n",
    "#About Dataset\n",
    "#Dataset Overview (Synthetic)\n",
    "\n",
    "#This dataset contains information on individuals with various attributes related to their personal and lifestyle factors. It is designed to facilitate analysis in areas such as health, lifestyle, and socio-economic status.\n",
    "\n",
    "#Features\n",
    "\n",
    "#Name: The full name of the individual.\n",
    "#Age: The age of the individual in years.\n",
    "#Marital Status: The marital status of the individual. Possible values include Single, Married, Divorced, and Widowed.\n",
    "#Education Level: The highest level of education attained by the individual. Possible values include High School,\n",
    "#Associate Degree, Bachelor's Degree, Master's Degree, and PhD.\n",
    "#Number of Children: The number of children the individual has.\n",
    "#Smoking Status: Indicates whether the individual is a smoker or not. Possible values are Smoker, Former and Non-smoker.\n",
    "#Physical Activity Level: The level of physical activity undertaken by the individual. Possible values include Sedentary, Moderate, and Active.\n",
    "#Employment Status: The employment status of the individual. Possible values include Employed and Unemployed.\n",
    "#Income: The annual income of the individual in USD.\n",
    "#Alcohol Consumption: The level of alcohol consumption. Possible values include Low, Moderate, and High.\n",
    "#Dietary Habits: The dietary habits of the individual. Possible values include Healthy, Moderate, and Unhealthy.\n",
    "#Sleep Patterns: The quality of sleep. Possible values include Good, Fair, and Poor.\n",
    "#History of Mental Illness: Whether the individual has a history of mental illness. Possible values are Yes and No.\n",
    "#History of Substance Abuse: Whether the individual has a history of substance abuse. Possible values are Yes and No.\n",
    "#Family History of Depression: Indicates if there is a family history of depression. Possible values are Yes and No.\n",
    "#Chronic Medical Conditions: Whether the individual has chronic medical conditions. Possible values are Yes and No.\n",
    "#Usage\n",
    "\n",
    "#This dataset is intended for use in analyzing various health, lifestyle, and socio-economic factors. It is suitable for tasks such as predictive modeling, clustering, and exploratory data analysis.\n",
    "\n",
    "df = pd.read_csv(\"data/depression_data.csv\")\n",
    "df.head()"
   ],
   "outputs": [
    {
     "data": {
      "text/plain": [
       "               Name  Age Marital Status    Education Level  \\\n",
       "0  Christine Barker   31        Married  Bachelor's Degree   \n",
       "1  Jacqueline Lewis   55        Married        High School   \n",
       "2    Shannon Church   78        Widowed    Master's Degree   \n",
       "3    Charles Jordan   58       Divorced    Master's Degree   \n",
       "4      Michael Rich   18         Single        High School   \n",
       "\n",
       "   Number of Children Smoking Status Physical Activity Level  \\\n",
       "0                   2     Non-smoker                  Active   \n",
       "1                   1     Non-smoker               Sedentary   \n",
       "2                   1     Non-smoker               Sedentary   \n",
       "3                   3     Non-smoker                Moderate   \n",
       "4                   0     Non-smoker               Sedentary   \n",
       "\n",
       "  Employment Status     Income Alcohol Consumption Dietary Habits  \\\n",
       "0        Unemployed   26265.67            Moderate       Moderate   \n",
       "1          Employed   42710.36                High      Unhealthy   \n",
       "2          Employed  125332.79                 Low      Unhealthy   \n",
       "3        Unemployed    9992.78            Moderate       Moderate   \n",
       "4        Unemployed    8595.08                 Low       Moderate   \n",
       "\n",
       "  Sleep Patterns History of Mental Illness History of Substance Abuse  \\\n",
       "0           Fair                       Yes                         No   \n",
       "1           Fair                       Yes                         No   \n",
       "2           Good                        No                         No   \n",
       "3           Poor                        No                         No   \n",
       "4           Fair                       Yes                         No   \n",
       "\n",
       "  Family History of Depression Chronic Medical Conditions  \n",
       "0                          Yes                        Yes  \n",
       "1                           No                        Yes  \n",
       "2                          Yes                         No  \n",
       "3                           No                         No  \n",
       "4                          Yes                        Yes  "
      ],
      "text/html": [
       "<div>\n",
       "<style scoped>\n",
       "    .dataframe tbody tr th:only-of-type {\n",
       "        vertical-align: middle;\n",
       "    }\n",
       "\n",
       "    .dataframe tbody tr th {\n",
       "        vertical-align: top;\n",
       "    }\n",
       "\n",
       "    .dataframe thead th {\n",
       "        text-align: right;\n",
       "    }\n",
       "</style>\n",
       "<table border=\"1\" class=\"dataframe\">\n",
       "  <thead>\n",
       "    <tr style=\"text-align: right;\">\n",
       "      <th></th>\n",
       "      <th>Name</th>\n",
       "      <th>Age</th>\n",
       "      <th>Marital Status</th>\n",
       "      <th>Education Level</th>\n",
       "      <th>Number of Children</th>\n",
       "      <th>Smoking Status</th>\n",
       "      <th>Physical Activity Level</th>\n",
       "      <th>Employment Status</th>\n",
       "      <th>Income</th>\n",
       "      <th>Alcohol Consumption</th>\n",
       "      <th>Dietary Habits</th>\n",
       "      <th>Sleep Patterns</th>\n",
       "      <th>History of Mental Illness</th>\n",
       "      <th>History of Substance Abuse</th>\n",
       "      <th>Family History of Depression</th>\n",
       "      <th>Chronic Medical Conditions</th>\n",
       "    </tr>\n",
       "  </thead>\n",
       "  <tbody>\n",
       "    <tr>\n",
       "      <th>0</th>\n",
       "      <td>Christine Barker</td>\n",
       "      <td>31</td>\n",
       "      <td>Married</td>\n",
       "      <td>Bachelor's Degree</td>\n",
       "      <td>2</td>\n",
       "      <td>Non-smoker</td>\n",
       "      <td>Active</td>\n",
       "      <td>Unemployed</td>\n",
       "      <td>26265.67</td>\n",
       "      <td>Moderate</td>\n",
       "      <td>Moderate</td>\n",
       "      <td>Fair</td>\n",
       "      <td>Yes</td>\n",
       "      <td>No</td>\n",
       "      <td>Yes</td>\n",
       "      <td>Yes</td>\n",
       "    </tr>\n",
       "    <tr>\n",
       "      <th>1</th>\n",
       "      <td>Jacqueline Lewis</td>\n",
       "      <td>55</td>\n",
       "      <td>Married</td>\n",
       "      <td>High School</td>\n",
       "      <td>1</td>\n",
       "      <td>Non-smoker</td>\n",
       "      <td>Sedentary</td>\n",
       "      <td>Employed</td>\n",
       "      <td>42710.36</td>\n",
       "      <td>High</td>\n",
       "      <td>Unhealthy</td>\n",
       "      <td>Fair</td>\n",
       "      <td>Yes</td>\n",
       "      <td>No</td>\n",
       "      <td>No</td>\n",
       "      <td>Yes</td>\n",
       "    </tr>\n",
       "    <tr>\n",
       "      <th>2</th>\n",
       "      <td>Shannon Church</td>\n",
       "      <td>78</td>\n",
       "      <td>Widowed</td>\n",
       "      <td>Master's Degree</td>\n",
       "      <td>1</td>\n",
       "      <td>Non-smoker</td>\n",
       "      <td>Sedentary</td>\n",
       "      <td>Employed</td>\n",
       "      <td>125332.79</td>\n",
       "      <td>Low</td>\n",
       "      <td>Unhealthy</td>\n",
       "      <td>Good</td>\n",
       "      <td>No</td>\n",
       "      <td>No</td>\n",
       "      <td>Yes</td>\n",
       "      <td>No</td>\n",
       "    </tr>\n",
       "    <tr>\n",
       "      <th>3</th>\n",
       "      <td>Charles Jordan</td>\n",
       "      <td>58</td>\n",
       "      <td>Divorced</td>\n",
       "      <td>Master's Degree</td>\n",
       "      <td>3</td>\n",
       "      <td>Non-smoker</td>\n",
       "      <td>Moderate</td>\n",
       "      <td>Unemployed</td>\n",
       "      <td>9992.78</td>\n",
       "      <td>Moderate</td>\n",
       "      <td>Moderate</td>\n",
       "      <td>Poor</td>\n",
       "      <td>No</td>\n",
       "      <td>No</td>\n",
       "      <td>No</td>\n",
       "      <td>No</td>\n",
       "    </tr>\n",
       "    <tr>\n",
       "      <th>4</th>\n",
       "      <td>Michael Rich</td>\n",
       "      <td>18</td>\n",
       "      <td>Single</td>\n",
       "      <td>High School</td>\n",
       "      <td>0</td>\n",
       "      <td>Non-smoker</td>\n",
       "      <td>Sedentary</td>\n",
       "      <td>Unemployed</td>\n",
       "      <td>8595.08</td>\n",
       "      <td>Low</td>\n",
       "      <td>Moderate</td>\n",
       "      <td>Fair</td>\n",
       "      <td>Yes</td>\n",
       "      <td>No</td>\n",
       "      <td>Yes</td>\n",
       "      <td>Yes</td>\n",
       "    </tr>\n",
       "  </tbody>\n",
       "</table>\n",
       "</div>"
      ]
     },
     "execution_count": 81,
     "metadata": {},
     "output_type": "execute_result"
    }
   ],
   "execution_count": 81
  },
  {
   "metadata": {
    "ExecuteTime": {
     "end_time": "2025-07-13T17:35:07.433214Z",
     "start_time": "2025-07-13T17:35:07.429988Z"
    }
   },
   "cell_type": "code",
   "source": "df.columns = df.columns.str.replace(\" \", \"_\")",
   "id": "48035b59a23ae24c",
   "outputs": [],
   "execution_count": 82
  },
  {
   "metadata": {
    "ExecuteTime": {
     "end_time": "2025-07-13T17:35:08.064940Z",
     "start_time": "2025-07-13T17:35:08.039425Z"
    }
   },
   "cell_type": "code",
   "source": "df.drop(\"Name\",axis=1,inplace=True)",
   "id": "dda3eda29d9bc204",
   "outputs": [],
   "execution_count": 83
  },
  {
   "metadata": {
    "ExecuteTime": {
     "end_time": "2025-07-13T17:39:46.130458Z",
     "start_time": "2025-07-13T17:39:45.922086Z"
    }
   },
   "cell_type": "code",
   "source": [
    "#Yes(1) / No(0) -> Chronic_Medical_Conditions, Family_History_of_Depression, History_of_Substance_Abuse, History_of_Mental_Illness\n",
    "yes_no_columns = ['Chronic_Medical_Conditions', 'Family_History_of_Depression', 'History_of_Substance_Abuse', 'History_of_Mental_Illness']\n",
    "for column in yes_no_columns:\n",
    "    df[column] = df[column].apply(lambda x: 1 if x == 'Yes' else 0)"
   ],
   "id": "4018f665f22c90f",
   "outputs": [],
   "execution_count": 87
  },
  {
   "metadata": {
    "ExecuteTime": {
     "end_time": "2025-07-13T17:39:55.173246Z",
     "start_time": "2025-07-13T17:39:55.101577Z"
    }
   },
   "cell_type": "code",
   "source": "df.info()",
   "id": "82851ee821ea40a6",
   "outputs": [
    {
     "name": "stdout",
     "output_type": "stream",
     "text": [
      "<class 'pandas.core.frame.DataFrame'>\n",
      "RangeIndex: 413768 entries, 0 to 413767\n",
      "Data columns (total 15 columns):\n",
      " #   Column                        Non-Null Count   Dtype  \n",
      "---  ------                        --------------   -----  \n",
      " 0   Age                           413768 non-null  int64  \n",
      " 1   Marital_Status                413768 non-null  object \n",
      " 2   Education_Level               413768 non-null  object \n",
      " 3   Number_of_Children            413768 non-null  int64  \n",
      " 4   Smoking_Status                413768 non-null  object \n",
      " 5   Physical_Activity_Level       413768 non-null  object \n",
      " 6   Employment_Status             413768 non-null  object \n",
      " 7   Income                        413768 non-null  float64\n",
      " 8   Alcohol_Consumption           413768 non-null  object \n",
      " 9   Dietary_Habits                413768 non-null  object \n",
      " 10  Sleep_Patterns                413768 non-null  object \n",
      " 11  History_of_Mental_Illness     413768 non-null  int64  \n",
      " 12  History_of_Substance_Abuse    413768 non-null  int64  \n",
      " 13  Family_History_of_Depression  413768 non-null  int64  \n",
      " 14  Chronic_Medical_Conditions    413768 non-null  int64  \n",
      "dtypes: float64(1), int64(6), object(8)\n",
      "memory usage: 47.4+ MB\n"
     ]
    }
   ],
   "execution_count": 88
  },
  {
   "metadata": {
    "ExecuteTime": {
     "end_time": "2025-07-13T17:54:01.893337Z",
     "start_time": "2025-07-13T17:54:01.771275Z"
    }
   },
   "cell_type": "code",
   "source": [
    "object_columns = df.select_dtypes(include='object').columns.tolist()\n",
    "for column in object_columns:\n",
    "    print(df[column].value_counts())"
   ],
   "id": "4b22fc6e8ef6f621",
   "outputs": [
    {
     "name": "stdout",
     "output_type": "stream",
     "text": [
      "Marital_Status\n",
      "Married     240444\n",
      "Single       72110\n",
      "Widowed      68485\n",
      "Divorced     32729\n",
      "Name: count, dtype: int64\n",
      "Education_Level\n",
      "Bachelor's Degree    124329\n",
      "High School          118927\n",
      "Associate Degree      79999\n",
      "Master's Degree       73768\n",
      "PhD                   16745\n",
      "Name: count, dtype: int64\n",
      "Smoking_Status\n",
      "Non-smoker    247416\n",
      "Former        116184\n",
      "Current        50168\n",
      "Name: count, dtype: int64\n",
      "Physical_Activity_Level\n",
      "Sedentary    176850\n",
      "Moderate     158013\n",
      "Active        78905\n",
      "Name: count, dtype: int64\n",
      "Employment_Status\n",
      "Employed      265659\n",
      "Unemployed    148109\n",
      "Name: count, dtype: int64\n",
      "Alcohol_Consumption\n",
      "Moderate    173440\n",
      "Low         139250\n",
      "High        101078\n",
      "Name: count, dtype: int64\n",
      "Dietary_Habits\n",
      "Unhealthy    170817\n",
      "Moderate     170446\n",
      "Healthy       72505\n",
      "Name: count, dtype: int64\n",
      "Sleep_Patterns\n",
      "Fair    196789\n",
      "Poor    129582\n",
      "Good     87397\n",
      "Name: count, dtype: int64\n"
     ]
    }
   ],
   "execution_count": 100
  },
  {
   "metadata": {
    "ExecuteTime": {
     "end_time": "2025-07-13T17:57:15.199922Z",
     "start_time": "2025-07-13T17:57:15.108515Z"
    }
   },
   "cell_type": "code",
   "source": [
    "# Ordinal encoding haritaları\n",
    "\n",
    "marital_status_map = {\n",
    "    'Single': 0,\n",
    "    'Divorced': 1,\n",
    "    'Widowed': 2,\n",
    "    'Married': 3\n",
    "}\n",
    "\n",
    "education_map = {\n",
    "    'High School': 0,\n",
    "    'Associate Degree': 1,\n",
    "    \"Bachelor's Degree\": 2,\n",
    "    \"Master's Degree\": 3,\n",
    "    'PhD': 4\n",
    "}\n",
    "\n",
    "smoking_map = {\n",
    "    'Non-smoker': 0,\n",
    "    'Former': 1,\n",
    "    'Current': 2\n",
    "}\n",
    "\n",
    "activity_map = {\n",
    "    'Sedentary': 0,\n",
    "    'Moderate': 1,\n",
    "    'Active': 2\n",
    "}\n",
    "\n",
    "employment_map = {\n",
    "    'Unemployed': 0,\n",
    "    'Employed': 1\n",
    "}\n",
    "\n",
    "alcohol_map = {\n",
    "    'Low': 0,\n",
    "    'Moderate': 1,\n",
    "    'High': 2\n",
    "}\n",
    "\n",
    "diet_map = {\n",
    "    'Unhealthy': 0,\n",
    "    'Moderate': 1,\n",
    "    'Healthy': 2\n",
    "}\n",
    "\n",
    "sleep_map = {\n",
    "    'Poor': 0,\n",
    "    'Fair': 1,\n",
    "    'Good': 2\n",
    "}\n",
    "\n",
    "# Encoding uygulamaları\n",
    "df['Marital_Status'] = df['Marital_Status'].map(marital_status_map)\n",
    "df['Education_Level'] = df['Education_Level'].map(education_map)\n",
    "df['Smoking_Status'] = df['Smoking_Status'].map(smoking_map)\n",
    "df['Physical_Activity_Level'] = df['Physical_Activity_Level'].map(activity_map)\n",
    "df['Employment_Status'] = df['Employment_Status'].map(employment_map)\n",
    "df['Alcohol_Consumption'] = df['Alcohol_Consumption'].map(alcohol_map)\n",
    "df['Dietary_Habits'] = df['Dietary_Habits'].map(diet_map)\n",
    "df['Sleep_Patterns'] = df['Sleep_Patterns'].map(sleep_map)\n"
   ],
   "id": "aadf0c0480853fe2",
   "outputs": [],
   "execution_count": 101
  },
  {
   "metadata": {
    "ExecuteTime": {
     "end_time": "2025-07-13T17:57:22.357562Z",
     "start_time": "2025-07-13T17:57:22.351556Z"
    }
   },
   "cell_type": "code",
   "source": "df.info()",
   "id": "28b2221034f1e614",
   "outputs": [
    {
     "name": "stdout",
     "output_type": "stream",
     "text": [
      "<class 'pandas.core.frame.DataFrame'>\n",
      "RangeIndex: 413768 entries, 0 to 413767\n",
      "Data columns (total 15 columns):\n",
      " #   Column                        Non-Null Count   Dtype  \n",
      "---  ------                        --------------   -----  \n",
      " 0   Age                           413768 non-null  int64  \n",
      " 1   Marital_Status                413768 non-null  int64  \n",
      " 2   Education_Level               413768 non-null  int64  \n",
      " 3   Number_of_Children            413768 non-null  int64  \n",
      " 4   Smoking_Status                413768 non-null  int64  \n",
      " 5   Physical_Activity_Level       413768 non-null  int64  \n",
      " 6   Employment_Status             413768 non-null  int64  \n",
      " 7   Income                        413768 non-null  float64\n",
      " 8   Alcohol_Consumption           413768 non-null  int64  \n",
      " 9   Dietary_Habits                413768 non-null  int64  \n",
      " 10  Sleep_Patterns                413768 non-null  int64  \n",
      " 11  History_of_Mental_Illness     413768 non-null  int64  \n",
      " 12  History_of_Substance_Abuse    413768 non-null  int64  \n",
      " 13  Family_History_of_Depression  413768 non-null  int64  \n",
      " 14  Chronic_Medical_Conditions    413768 non-null  int64  \n",
      "dtypes: float64(1), int64(14)\n",
      "memory usage: 47.4 MB\n"
     ]
    }
   ],
   "execution_count": 102
  },
  {
   "metadata": {
    "ExecuteTime": {
     "end_time": "2025-07-13T18:00:45.401322Z",
     "start_time": "2025-07-13T18:00:45.397563Z"
    }
   },
   "cell_type": "code",
   "source": "#df.to_excel(\"data/clean_depression_data.xlsx\", index=False)",
   "id": "13de3e086b136e6c",
   "outputs": [],
   "execution_count": 104
  },
  {
   "metadata": {
    "ExecuteTime": {
     "end_time": "2025-07-13T18:02:32.650133Z",
     "start_time": "2025-07-13T18:02:30.643353Z"
    }
   },
   "cell_type": "code",
   "source": "sns.barplot(df, x='Marital_Status', y='Sleep_Patterns',hue='Smoking_Status')",
   "id": "efd68507cb76afce",
   "outputs": [
    {
     "data": {
      "text/plain": [
       "<Axes: xlabel='Marital_Status', ylabel='Sleep_Patterns'>"
      ]
     },
     "execution_count": 107,
     "metadata": {},
     "output_type": "execute_result"
    },
    {
     "data": {
      "text/plain": [
       "<Figure size 640x480 with 1 Axes>"
      ],
      "image/png": "[encoded data removed]"
     },
     "metadata": {},
     "output_type": "display_data"
    }
   ],
   "execution_count": 107
  },
  {
   "metadata": {
    "ExecuteTime": {
     "end_time": "2025-07-13T18:06:06.154455Z",
     "start_time": "2025-07-13T18:06:04.143392Z"
    }
   },
   "cell_type": "code",
   "source": "sns.barplot(df, x='Smoking_Status', y='Education_Level',hue='Marital_Status')",
   "id": "f287218278d21bd2",
   "outputs": [
    {
     "data": {
      "text/plain": [
       "<Axes: xlabel='Smoking_Status', ylabel='Education_Level'>"
      ]
     },
     "execution_count": 113,
     "metadata": {},
     "output_type": "execute_result"
    },
    {
     "data": {
      "text/plain": [
       "<Figure size 640x480 with 1 Axes>"
      ],
      "image/png": "[encoded data removed]"
     },
     "metadata": {},
     "output_type": "display_data"
    }
   ],
   "execution_count": 113
  },
  {
   "metadata": {
    "ExecuteTime": {
     "end_time": "2025-07-13T18:07:09.880999Z",
     "start_time": "2025-07-13T18:07:09.873293Z"
    }
   },
   "cell_type": "code",
   "source": "df.info()",
   "id": "8c96414791d49290",
   "outputs": [
    {
     "name": "stdout",
     "output_type": "stream",
     "text": [
      "<class 'pandas.core.frame.DataFrame'>\n",
      "RangeIndex: 413768 entries, 0 to 413767\n",
      "Data columns (total 15 columns):\n",
      " #   Column                        Non-Null Count   Dtype  \n",
      "---  ------                        --------------   -----  \n",
      " 0   Age                           413768 non-null  int64  \n",
      " 1   Marital_Status                413768 non-null  int64  \n",
      " 2   Education_Level               413768 non-null  int64  \n",
      " 3   Number_of_Children            413768 non-null  int64  \n",
      " 4   Smoking_Status                413768 non-null  int64  \n",
      " 5   Physical_Activity_Level       413768 non-null  int64  \n",
      " 6   Employment_Status             413768 non-null  int64  \n",
      " 7   Income                        413768 non-null  float64\n",
      " 8   Alcohol_Consumption           413768 non-null  int64  \n",
      " 9   Dietary_Habits                413768 non-null  int64  \n",
      " 10  Sleep_Patterns                413768 non-null  int64  \n",
      " 11  History_of_Mental_Illness     413768 non-null  int64  \n",
      " 12  History_of_Substance_Abuse    413768 non-null  int64  \n",
      " 13  Family_History_of_Depression  413768 non-null  int64  \n",
      " 14  Chronic_Medical_Conditions    413768 non-null  int64  \n",
      "dtypes: float64(1), int64(14)\n",
      "memory usage: 47.4 MB\n"
     ]
    }
   ],
   "execution_count": 115
  },
  {
   "metadata": {
    "ExecuteTime": {
     "end_time": "2025-07-13T18:48:25.045338Z",
     "start_time": "2025-07-13T18:48:24.987800Z"
    }
   },
   "cell_type": "code",
   "source": [
    "X = df.drop(\"Family_History_of_Depression\", axis=1)\n",
    "y = df[\"Family_History_of_Depression\"]\n",
    "from sklearn.model_selection import train_test_split\n",
    "\n",
    "X_train, X_test, y_train, y_test = train_test_split(X, y, test_size=0.3, random_state=15)\n",
    "\n",
    "from sklearn.ensemble import RandomForestRegressor, AdaBoostRegressor, GradientBoostingRegressor\n",
    "from sklearn.linear_model import LinearRegression, Ridge, Lasso\n",
    "from sklearn.neighbors import KNeighborsRegressor\n",
    "from sklearn.tree import DecisionTreeRegressor\n",
    "from xgboost import XGBRegressor\n",
    "from sklearn.metrics import r2_score, mean_absolute_error, mean_squared_error\n",
    "\n",
    "def evaluate_model(true, predicted):\n",
    "    mae = mean_absolute_error(true, predicted)\n",
    "    mse = mean_squared_error(true, predicted)\n",
    "    rmse = np.sqrt(mean_squared_error(true, predicted))\n",
    "    r2_square = r2_score(true, predicted)\n",
    "    return mae, rmse, r2_square"
   ],
   "id": "d930d20e65f7b62",
   "outputs": [],
   "execution_count": 116
  },
  {
   "metadata": {
    "ExecuteTime": {
     "end_time": "2025-07-13T18:48:31.240077Z",
     "start_time": "2025-07-13T18:48:31.237535Z"
    }
   },
   "cell_type": "code",
   "source": [
    "models = {\n",
    "    \"Linear Regression\" : LinearRegression(),\n",
    "    \"Lasso\" : Lasso(),\n",
    "    \"Ridge\" : Ridge(),\n",
    "    \"K Neighbors Regressor\" : KNeighborsRegressor(),\n",
    "    \"Decision Tree\" : DecisionTreeRegressor(),\n",
    "    \"Random Forest Regressor\" : RandomForestRegressor(),\n",
    "    \"Adaboost Regressor\" : AdaBoostRegressor(),\n",
    "    \"Gradient Boost Regressor\" : GradientBoostingRegressor(),\n",
    "    \"XGBoost Regressor\" : XGBRegressor()\n",
    "}"
   ],
   "id": "5c17159a3b1e0230",
   "outputs": [],
   "execution_count": 117
  },
  {
   "metadata": {
    "ExecuteTime": {
     "end_time": "2025-07-13T18:50:31.201812Z",
     "start_time": "2025-07-13T18:48:33.122095Z"
    }
   },
   "cell_type": "code",
   "source": [
    "r2_scores = dict()\n",
    "for i in range(len(list(models))):\n",
    "    model = list(models.values())[i]\n",
    "    model.fit(X_train, y_train)\n",
    "\n",
    "    y_train_pred = model.predict(X_train)\n",
    "    y_test_pred = model.predict(X_test)\n",
    "\n",
    "    model_train_mae, model_train_rmse, model_train_r2 = evaluate_model(y_train, y_train_pred)\n",
    "    model_test_mae, model_test_rmse, model_test_r2 = evaluate_model(y_test, y_test_pred)\n",
    "\n",
    "    print(list(models.keys())[i])\n",
    "    print(\"Model performance for Training Set\")\n",
    "    print(\"Root Mean Squared Error: \", model_train_rmse)\n",
    "    print(\"Mean Absolute Error: \", model_train_mae)\n",
    "    print(\"R2 Score: \", model_train_r2)\n",
    "    r2_scores[list(models.keys())[i]] = model_train_r2\n",
    "    print(\"-----------------------------------\")\n",
    "\n",
    "    print(\"Model performance for Test Set\")\n",
    "    print(\"Root Mean Squared Error: \", model_test_rmse)\n",
    "    print(\"Mean Absolute Error: \", model_test_mae)\n",
    "    print(\"R2 Score: \", model_test_r2)\n",
    "\n",
    "    print(\"-----------------------------------\")\n",
    "    print(\"\\n\")\n",
    "\n"
   ],
   "id": "7b68709f5b7624e0",
   "outputs": [
    {
     "name": "stdout",
     "output_type": "stream",
     "text": [
      "Linear Regression\n",
      "Model performance for Training Set\n",
      "Root Mean Squared Error:  0.43885688440160936\n",
      "Mean Absolute Error:  0.3851907299733783\n",
      "R2 Score:  0.021298768566353266\n",
      "-----------------------------------\n",
      "Model performance for Test Set\n",
      "Root Mean Squared Error:  0.4384396522432681\n",
      "Mean Absolute Error:  0.38499905347659047\n",
      "R2 Score:  0.019761000866194478\n",
      "-----------------------------------\n",
      "\n",
      "\n",
      "Lasso\n",
      "Model performance for Training Set\n",
      "Root Mean Squared Error:  0.44359796923701\n",
      "Mean Absolute Error:  0.39355845030334974\n",
      "R2 Score:  3.82170518006264e-05\n",
      "-----------------------------------\n",
      "Model performance for Test Set\n",
      "Root Mean Squared Error:  0.4428223433687505\n",
      "Mean Absolute Error:  0.39287470366615795\n",
      "R2 Score:  6.58988887853873e-05\n",
      "-----------------------------------\n",
      "\n",
      "\n",
      "Ridge\n",
      "Model performance for Training Set\n",
      "Root Mean Squared Error:  0.43885688440168313\n",
      "Mean Absolute Error:  0.385190749212071\n",
      "R2 Score:  0.021298768566024195\n",
      "-----------------------------------\n",
      "Model performance for Test Set\n",
      "Root Mean Squared Error:  0.4384396511062544\n",
      "Mean Absolute Error:  0.3849990710813029\n",
      "R2 Score:  0.019761005950338473\n",
      "-----------------------------------\n",
      "\n",
      "\n",
      "K Neighbors Regressor\n",
      "Model performance for Training Set\n",
      "Root Mean Squared Error:  0.39422370104271387\n",
      "Mean Absolute Error:  0.3109844391427891\n",
      "R2 Score:  0.21024976223795788\n",
      "-----------------------------------\n",
      "Model performance for Test Set\n",
      "Root Mean Squared Error:  0.48146711954424254\n",
      "Mean Absolute Error:  0.38829301302656066\n",
      "R2 Score:  -0.18207653105103372\n",
      "-----------------------------------\n",
      "\n",
      "\n",
      "Decision Tree\n",
      "Model performance for Training Set\n",
      "Root Mean Squared Error:  0.0\n",
      "Mean Absolute Error:  0.0\n",
      "R2 Score:  1.0\n",
      "-----------------------------------\n",
      "Model performance for Test Set\n",
      "Root Mean Squared Error:  0.615245904774892\n",
      "Mean Absolute Error:  0.3785275233422755\n",
      "R2 Score:  -0.9302332438743415\n",
      "-----------------------------------\n",
      "\n",
      "\n",
      "Random Forest Regressor\n",
      "Model performance for Training Set\n",
      "Root Mean Squared Error:  0.16567601454471248\n",
      "Mean Absolute Error:  0.14011680137551488\n",
      "R2 Score:  0.8605162608243861\n",
      "-----------------------------------\n",
      "Model performance for Test Set\n",
      "Root Mean Squared Error:  0.4427142067750446\n",
      "Mean Absolute Error:  0.38074920849747446\n",
      "R2 Score:  0.0005542042632163957\n",
      "-----------------------------------\n",
      "\n",
      "\n",
      "Adaboost Regressor\n",
      "Model performance for Training Set\n",
      "Root Mean Squared Error:  0.4294903722049671\n",
      "Mean Absolute Error:  0.3686407235250581\n",
      "R2 Score:  0.06262974287137502\n",
      "-----------------------------------\n",
      "Model performance for Test Set\n",
      "Root Mean Squared Error:  0.429300966463486\n",
      "Mean Absolute Error:  0.3686933822851578\n",
      "R2 Score:  0.06019865933967605\n",
      "-----------------------------------\n",
      "\n",
      "\n",
      "Gradient Boost Regressor\n",
      "Model performance for Training Set\n",
      "Root Mean Squared Error:  0.42914358920715506\n",
      "Mean Absolute Error:  0.3689479682645371\n",
      "R2 Score:  0.06414285168950762\n",
      "-----------------------------------\n",
      "Model performance for Test Set\n",
      "Root Mean Squared Error:  0.4292644536117074\n",
      "Mean Absolute Error:  0.3692524130157552\n",
      "R2 Score:  0.06035851627205324\n",
      "-----------------------------------\n",
      "\n",
      "\n",
      "XGBoost Regressor\n",
      "Model performance for Training Set\n",
      "Root Mean Squared Error:  0.42180512873993975\n",
      "Mean Absolute Error:  0.36062079668045044\n",
      "R2 Score:  0.09587585926055908\n",
      "-----------------------------------\n",
      "Model performance for Test Set\n",
      "Root Mean Squared Error:  0.4312498991040098\n",
      "Mean Absolute Error:  0.36883941292762756\n",
      "R2 Score:  0.051646411418914795\n",
      "-----------------------------------\n",
      "\n",
      "\n"
     ]
    },
    {
     "data": {
      "text/plain": [
       "{'Linear Regression': 0.021298768566353266,\n",
       " 'Lasso': 3.82170518006264e-05,\n",
       " 'Ridge': 0.021298768566024195,\n",
       " 'K Neighbors Regressor': 0.21024976223795788,\n",
       " 'Decision Tree': 1.0,\n",
       " 'Random Forest Regressor': 0.8605162608243861,\n",
       " 'Adaboost Regressor': 0.06262974287137502,\n",
       " 'Gradient Boost Regressor': 0.06414285168950762,\n",
       " 'XGBoost Regressor': 0.09587585926055908}"
      ]
     },
     "execution_count": 118,
     "metadata": {},
     "output_type": "execute_result"
    }
   ],
   "execution_count": 118
  },
  {
   "metadata": {
    "ExecuteTime": {
     "end_time": "2025-07-13T18:50:31.221349Z",
     "start_time": "2025-07-13T18:50:31.218629Z"
    }
   },
   "cell_type": "code",
   "source": "r2_scores",
   "id": "a2ce98d456afc3c3",
   "outputs": [
    {
     "data": {
      "text/plain": [
       "{'Linear Regression': 0.021298768566353266,\n",
       " 'Lasso': 3.82170518006264e-05,\n",
       " 'Ridge': 0.021298768566024195,\n",
       " 'K Neighbors Regressor': 0.21024976223795788,\n",
       " 'Decision Tree': 1.0,\n",
       " 'Random Forest Regressor': 0.8605162608243861,\n",
       " 'Adaboost Regressor': 0.06262974287137502,\n",
       " 'Gradient Boost Regressor': 0.06414285168950762,\n",
       " 'XGBoost Regressor': 0.09587585926055908}"
      ]
     },
     "execution_count": 119,
     "metadata": {},
     "output_type": "execute_result"
    }
   ],
   "execution_count": 119
  },
  {
   "metadata": {
    "ExecuteTime": {
     "end_time": "2025-07-13T19:52:17.603588Z",
     "start_time": "2025-07-13T19:48:33.173667Z"
    }
   },
   "cell_type": "code",
   "source": [
    "models = {\n",
    "    \"Random Forest Regressor\" : RandomForestRegressor(n_estimators=500,\n",
    "                                                     min_samples_split=2,\n",
    "                                                      max_features=7,\n",
    "                                                      max_depth = None)\n",
    "}\n",
    "\n",
    "for i in range(len(list(models))):\n",
    "    model = list(models.values())[i]\n",
    "    model.fit(X_train, y_train)\n",
    "\n",
    "    y_train_pred = model.predict(X_train)\n",
    "    y_test_pred = model.predict(X_test)\n",
    "\n",
    "    model_train_mae, model_train_rmse, model_train_r2 = evaluate_model(y_train, y_train_pred)\n",
    "    model_test_mae, model_test_rmse, model_test_r2 = evaluate_model(y_test, y_test_pred)\n",
    "\n",
    "    print(list(models.values())[i])\n",
    "\n",
    "    print(\"Evaluation for Training Set\")\n",
    "    print(\"RMSE :\", model_train_rmse)\n",
    "    print(\"Mean Absolute Error :\", model_train_mae)\n",
    "    print(\"R2 Score :\", model_train_r2)\n",
    "\n",
    "    print(\"-----------------------------\")\n",
    "\n",
    "    print(\"Evaluation for Test Set\")\n",
    "    print(\"RMSE :\", model_test_rmse)\n",
    "    print(\"Mean Absolute Error :\", model_test_mae)\n",
    "    print(\"R2 Score :\", model_test_r2)\n",
    "\n",
    "    print(\"-----------------------------\")\n",
    "    print(\"\\n\")"
   ],
   "id": "ea39f2de1550e862",
   "outputs": [
    {
     "name": "stdout",
     "output_type": "stream",
     "text": [
      "RandomForestRegressor(max_features=7, n_estimators=500)\n",
      "Evaluation for Training Set\n",
      "RMSE : 0.16329153756633333\n",
      "Mean Absolute Error : 0.13890971802635713\n",
      "R2 Score : 0.8645023820341953\n",
      "-----------------------------\n",
      "Evaluation for Test Set\n",
      "RMSE : 0.44149249861152556\n",
      "Mean Absolute Error : 0.3770869645777445\n",
      "R2 Score : 0.006062707484990493\n",
      "-----------------------------\n",
      "\n",
      "\n"
     ]
    }
   ],
   "execution_count": 129
  },
  {
   "metadata": {},
   "cell_type": "code",
   "outputs": [],
   "execution_count": null,
   "source": "",
   "id": "55bdde2bf38eb0c"
  }
 ],
 "metadata": {
  "kernelspec": {
   "display_name": "Python 3",
   "language": "python",
   "name": "python3"
  },
  "language_info": {
   "codemirror_mode": {
    "name": "ipython",
    "version": 2
   },
   "file_extension": ".py",
   "mimetype": "text/x-python",
   "name": "python",
   "nbconvert_exporter": "python",
   "pygments_lexer": "ipython2",
   "version": "2.7.6"
  }
 },
 "nbformat": 4,
 "nbformat_minor": 5
}
